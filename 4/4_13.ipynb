{
 "cells": [
  {
   "cell_type": "code",
   "execution_count": 1,
   "metadata": {
    "collapsed": true
   },
   "outputs": [],
   "source": [
    "import numpy as np\n",
    "import matplotlib.pyplot as plt\n",
    "from sklearn import datasets\n",
    "\n",
    "n_samples = 1500\n",
    "dataset = datasets.make_blobs(n_samples=n_samples, centers=2, center_box=(-7.0, 7.5),\n",
    "                              cluster_std=[1.4, 1.7],\n",
    "                              random_state=42)\n",
    "X_2, _ = datasets.make_blobs(n_samples=n_samples, random_state=170, centers=[[-4, -3]], cluster_std=[1.9])\n",
    "transformation = [[1.2, -0.8], [-0.4, 1.7]]\n",
    "X_2 = np.dot(X_2, transformation)\n",
    "X, y = np.concatenate((dataset[0], X_2)), np.concatenate((dataset[1], np.array([2] * len(X_2))))\n"
   ]
  },
  {
   "cell_type": "code",
   "execution_count": 2,
   "metadata": {},
   "outputs": [
    {
     "data": {
      "text/plain": [
       "0.7842373379017128"
      ]
     },
     "execution_count": 2,
     "metadata": {},
     "output_type": "execute_result"
    }
   ],
   "source": [
    "from sklearn.cluster import KMeans\n",
    "from sklearn.metrics.cluster import completeness_score\n",
    "\n",
    "# сначала получим предсказанные кластеры при помощи метода кластеризации\n",
    "kmeans = KMeans(n_clusters=3, random_state=42)\n",
    "kmeans.fit(X)\n",
    "kmeans_pred = kmeans.labels_\n",
    "\n",
    "# теперь посчитаем полноту\n",
    "completeness_score(labels_true=y, labels_pred=kmeans_pred)\n"
   ]
  },
  {
   "cell_type": "code",
   "execution_count": 5,
   "metadata": {},
   "outputs": [
    {
     "name": "stdout",
     "output_type": "stream",
     "text": [
      "0.9325740421656737\n"
     ]
    }
   ],
   "source": [
    "# 4.13.1\n",
    "from sklearn.mixture import GaussianMixture\n",
    "\n",
    "\n",
    "# GaussianMixture\n",
    "def calc_gaussianmixture_completeness_score(components=3):\n",
    "    gm = GaussianMixture(n_components=components, random_state=42)\n",
    "    gm.fit(X)\n",
    "    y_pred = gm.predict(X)\n",
    "    return completeness_score(labels_true=y, labels_pred=y_pred)\n",
    "\n",
    "\n",
    "print(calc_gaussianmixture_completeness_score())"
   ]
  },
  {
   "cell_type": "code",
   "execution_count": 6,
   "metadata": {},
   "outputs": [
    {
     "name": "stdout",
     "output_type": "stream",
     "text": [
      "K-means completeness_score:  0.7842373379017128\nGaussianMixture completeness_score:  0.9325740421656737\n"
     ]
    },
    {
     "name": "stdout",
     "output_type": "stream",
     "text": [
      "AgglomerativeClustering completeness_score:  0.6901277117253529\nDBSCAN completeness_score:  0.6965554058940557\n"
     ]
    }
   ],
   "source": [
    "# 4.13.2\n",
    "from sklearn.cluster import AgglomerativeClustering\n",
    "from sklearn.cluster import DBSCAN\n",
    "\n",
    "\n",
    "# K-means\n",
    "def calc_kmeans_completeness_score(clusters=3):\n",
    "    kmeans = KMeans(n_clusters=clusters, random_state=42)\n",
    "    kmeans.fit(X)\n",
    "    kmeans_pred = kmeans.labels_\n",
    "    return completeness_score(labels_true=y, labels_pred=kmeans_pred)\n",
    "\n",
    "\n",
    "# Агломеративная кластеризация\n",
    "def calc_agglomerative_clustering_completeness_score(clusters=3):\n",
    "    ac = AgglomerativeClustering(n_clusters=clusters) \n",
    "    ac.fit(X)\n",
    "    y_pred = ac.labels_.astype(np.int)\n",
    "    return completeness_score(labels_true=y, labels_pred=y_pred)\n",
    "\n",
    "\n",
    "# DBSCAN\n",
    "def calc_dbscan_completeness_score(epsilon=0.9, samples=35):\n",
    "    dbscan = DBSCAN(eps=epsilon, min_samples=samples)\n",
    "    dbscan.fit(X)\n",
    "    y_pred = dbscan.labels_.astype(np.int)\n",
    "    return completeness_score(labels_true=y, labels_pred=y_pred)\n",
    "\n",
    "\n",
    "print('K-means completeness_score: ', calc_kmeans_completeness_score())\n",
    "print('GaussianMixture completeness_score: ', calc_gaussianmixture_completeness_score())\n",
    "print('AgglomerativeClustering completeness_score: ', calc_agglomerative_clustering_completeness_score())\n",
    "print('DBSCAN completeness_score: ', calc_dbscan_completeness_score())\n"
   ]
  },
  {
   "cell_type": "code",
   "execution_count": null,
   "metadata": {},
   "outputs": [],
   "source": []
  }
 ],
 "metadata": {
  "kernelspec": {
   "display_name": "Python 2",
   "language": "python",
   "name": "python2"
  },
  "language_info": {
   "codemirror_mode": {
    "name": "ipython",
    "version": 2
   },
   "file_extension": ".py",
   "mimetype": "text/x-python",
   "name": "python",
   "nbconvert_exporter": "python",
   "pygments_lexer": "ipython2",
   "version": "2.7.6"
  }
 },
 "nbformat": 4,
 "nbformat_minor": 0
}
