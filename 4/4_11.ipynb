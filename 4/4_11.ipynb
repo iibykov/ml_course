{
 "cells": [
  {
   "cell_type": "code",
   "execution_count": 6,
   "metadata": {
    "collapsed": true
   },
   "outputs": [],
   "source": [
    "import numpy as np\n",
    "import matplotlib.pyplot as plt\n",
    "from sklearn import datasets\n",
    "\n",
    "n_samples = 1500\n",
    "dataset = datasets.make_blobs(n_samples=n_samples, centers=2, center_box=(-7.0, 7.5),\n",
    "                              cluster_std=[1.4, 1.7],\n",
    "                              random_state=42)\n",
    "X_2, _ = datasets.make_blobs(n_samples=n_samples, random_state=170, centers=[[-4, -3]], cluster_std=[1.9])\n",
    "transformation = [[1.2, -0.8], [-0.4, 1.7]]\n",
    "X_2 = np.dot(X_2, transformation)\n",
    "X, y = np.concatenate((dataset[0], X_2)), np.concatenate((dataset[1], np.array([2] * len(X_2))))\n"
   ]
  },
  {
   "cell_type": "code",
   "execution_count": 3,
   "metadata": {
    "collapsed": false
   },
   "outputs": [
    {
     "name": "stdout",
     "output_type": "stream",
     "text": [
      "[2 2 1 ... 0 0 0]\n"
     ]
    },
    {
     "data": {
      "text/plain": [
       "0.5131209788437305"
      ]
     },
     "execution_count": 3,
     "metadata": {},
     "output_type": "execute_result"
    }
   ],
   "source": [
    "from sklearn.cluster import KMeans\n",
    "from sklearn.metrics import silhouette_score\n",
    "\n",
    "# сначала получим предсказанные кластеры при помощи метода кластеризации\n",
    "kmeans = KMeans(n_clusters=3, random_state=42)\n",
    "kmeans.fit(X)\n",
    "kmeans_pred = kmeans.labels_\n",
    "\n",
    "# теперь посчитаем коэффициент силуэта\n",
    "silhouette_score(X=X, labels=kmeans_pred, metric='euclidean')\n"
   ]
  },
  {
   "cell_type": "code",
   "execution_count": 7,
   "metadata": {},
   "outputs": [
    {
     "data": {
      "text/plain": [
       "0.49893287606943293"
      ]
     },
     "execution_count": 7,
     "metadata": {},
     "output_type": "execute_result"
    }
   ],
   "source": [
    "# 4.11.1\n",
    "from sklearn.mixture import GaussianMixture\n",
    "\n",
    "gm = GaussianMixture(n_components=3, random_state=42)\n",
    "gm.fit(X)\n",
    "y_pred = gm.predict(X)\n",
    "\n",
    "silhouette_score(X=X, labels=y_pred, metric='euclidean')\n"
   ]
  },
  {
   "cell_type": "code",
   "execution_count": 13,
   "metadata": {},
   "outputs": [
    {
     "name": "stdout",
     "output_type": "stream",
     "text": [
      "K-means silhouette_score:  0.5131209788437305\n"
     ]
    },
    {
     "name": "stdout",
     "output_type": "stream",
     "text": [
      "GaussianMixture silhouette_score:  0.49893287606943293\n"
     ]
    },
    {
     "name": "stdout",
     "output_type": "stream",
     "text": [
      "AgglomerativeClustering silhouette_score:  0.4811992210663849\n"
     ]
    },
    {
     "name": "stdout",
     "output_type": "stream",
     "text": [
      "DBSCAN silhouette_score:  0.4454335539277996\n"
     ]
    }
   ],
   "source": [
    "# 4.11.2\n",
    "from sklearn.cluster import AgglomerativeClustering\n",
    "from sklearn.cluster import DBSCAN\n",
    "\n",
    "\n",
    "# K-means\n",
    "def calc_kmeans_silhouette_score(clusters=3):\n",
    "    kmeans = KMeans(n_clusters=clusters, random_state=42)\n",
    "    kmeans.fit(X)\n",
    "    kmeans_pred = kmeans.labels_\n",
    "    return silhouette_score(X=X, labels=kmeans_pred, metric='euclidean')\n",
    "\n",
    "\n",
    "# GaussianMixture\n",
    "def calc_gaussianmixture_silhouette_score(components=3):\n",
    "    gm = GaussianMixture(n_components=components, random_state=42)\n",
    "    gm.fit(X)\n",
    "    y_pred = gm.predict(X)\n",
    "    return silhouette_score(X=X, labels=y_pred, metric='euclidean')\n",
    "\n",
    "\n",
    "# Агломеративная кластеризация\n",
    "def calc_agglomerative_clustering_silhouette_score(clusters=3):\n",
    "    ac = AgglomerativeClustering(n_clusters=clusters) \n",
    "    ac.fit(X)\n",
    "    y_pred = ac.labels_.astype(np.int)\n",
    "    return silhouette_score(X=X, labels=y_pred, metric='euclidean')\n",
    "\n",
    "\n",
    "# DBSCAN\n",
    "def calc_dbscan_silhouette_score(epsilon=0.9, samples=35):\n",
    "    dbscan = DBSCAN(eps=epsilon, min_samples=samples)\n",
    "    dbscan.fit(X)\n",
    "    y_pred = dbscan.labels_.astype(np.int)\n",
    "    return silhouette_score(X=X, labels=y_pred, metric='euclidean')\n",
    "\n",
    "\n",
    "print('K-means silhouette_score: ', calc_kmeans_silhouette_score())\n",
    "print('GaussianMixture silhouette_score: ', calc_gaussianmixture_silhouette_score())\n",
    "print('AgglomerativeClustering silhouette_score: ', calc_agglomerative_clustering_silhouette_score())\n",
    "print('DBSCAN silhouette_score: ', calc_dbscan_silhouette_score())\n"
   ]
  },
  {
   "cell_type": "code",
   "execution_count": 19,
   "metadata": {},
   "outputs": [
    {
     "name": "stdout",
     "output_type": "stream",
     "text": [
      "3   4   4\n"
     ]
    }
   ],
   "source": [
    "# 4.11.3\n",
    "\n",
    "kmeans_value = (-1, -1)\n",
    "gaussian_value = (-1, -1)\n",
    "agglomerative_value = (-1, -1)\n",
    "\n",
    "for x in range(2, 10):\n",
    "    if kmeans_value[1] < calc_kmeans_silhouette_score(x):\n",
    "        kmeans_value = (x, calc_kmeans_silhouette_score(x))\n",
    "    \n",
    "    if gaussian_value[1] < calc_gaussianmixture_silhouette_score(x):\n",
    "        gaussian_value = (x, calc_gaussianmixture_silhouette_score(x))\n",
    "    \n",
    "    if agglomerative_value[1] < calc_agglomerative_clustering_silhouette_score(x):\n",
    "        agglomerative_value = (x, calc_agglomerative_clustering_silhouette_score(x))\n",
    "\n",
    "print(kmeans_value[0], \" \", gaussian_value[0], \" \", agglomerative_value[0])\n"
   ]
  },
  {
   "cell_type": "code",
   "execution_count": null,
   "metadata": {},
   "outputs": [],
   "source": []
  }
 ],
 "metadata": {
  "kernelspec": {
   "display_name": "Python 2",
   "language": "python",
   "name": "python2"
  },
  "language_info": {
   "codemirror_mode": {
    "name": "ipython",
    "version": 2
   },
   "file_extension": ".py",
   "mimetype": "text/x-python",
   "name": "python",
   "nbconvert_exporter": "python",
   "pygments_lexer": "ipython2",
   "version": "2.7.6"
  }
 },
 "nbformat": 4,
 "nbformat_minor": 0
}
