{
 "cells": [
  {
   "cell_type": "code",
   "execution_count": 1,
   "metadata": {
    "collapsed": true
   },
   "outputs": [],
   "source": [
    "import numpy as np\n",
    "import matplotlib.pyplot as plt\n",
    "from sklearn import datasets\n",
    "\n",
    "n_samples = 1500\n",
    "dataset = datasets.make_blobs(n_samples=n_samples, centers=2, center_box=(-7.0, 7.5),\n",
    "                              cluster_std=[1.4, 1.7],\n",
    "                              random_state=42)\n",
    "X_2, _ = datasets.make_blobs(n_samples=n_samples, random_state=170, centers=[[-4, -3]], cluster_std=[1.9])\n",
    "transformation = [[1.2, -0.8], [-0.4, 1.7]]\n",
    "X_2 = np.dot(X_2, transformation)\n",
    "X, y = np.concatenate((dataset[0], X_2)), np.concatenate((dataset[1], np.array([2] * len(X_2))))\n"
   ]
  },
  {
   "cell_type": "code",
   "execution_count": 2,
   "metadata": {},
   "outputs": [
    {
     "data": {
      "text/plain": [
       "0.795592702456356"
      ]
     },
     "execution_count": 2,
     "metadata": {},
     "output_type": "execute_result"
    }
   ],
   "source": [
    "from sklearn.cluster import KMeans\n",
    "from sklearn.metrics.cluster import v_measure_score\n",
    "\n",
    "# сначала получим предсказанные кластеры при помощи метода кластеризации\n",
    "kmeans = KMeans(n_clusters=3, random_state=42)\n",
    "kmeans.fit(X)\n",
    "kmeans_pred = kmeans.labels_\n",
    "\n",
    "# теперь посчитаем v_measure\n",
    "v_measure_score(labels_true=y, labels_pred=kmeans_pred)\n"
   ]
  },
  {
   "cell_type": "code",
   "execution_count": 4,
   "metadata": {},
   "outputs": [
    {
     "data": {
      "text/plain": [
       "0.9332760595996924"
      ]
     },
     "execution_count": 4,
     "metadata": {},
     "output_type": "execute_result"
    }
   ],
   "source": [
    "# 4.14.1\n",
    "from sklearn.mixture import GaussianMixture\n",
    "\n",
    "\n",
    "# GaussianMixture\n",
    "def calc_gaussianmixture_v_measure_score(components=3):\n",
    "    gm = GaussianMixture(n_components=components, random_state=42)\n",
    "    gm.fit(X)\n",
    "    y_pred = gm.predict(X)\n",
    "    return v_measure_score(labels_true=y, labels_pred=y_pred)\n",
    "\n",
    "calc_gaussianmixture_v_measure_score()\n"
   ]
  },
  {
   "cell_type": "code",
   "execution_count": 11,
   "metadata": {},
   "outputs": [
    {
     "name": "stdout",
     "output_type": "stream",
     "text": [
      "K-means v_measure_score:  0.795592702456356\nGaussianMixture v_measure_score:  0.9332760595996924\n"
     ]
    },
    {
     "name": "stdout",
     "output_type": "stream",
     "text": [
      "AgglomerativeClustering v_measure_score:  0.703747024360433\nDBSCAN v_measure_score:  0.7732549110297919\n"
     ]
    }
   ],
   "source": [
    "# 4.14.2\n",
    "from sklearn.cluster import AgglomerativeClustering\n",
    "from sklearn.cluster import DBSCAN\n",
    "\n",
    "\n",
    "# K-means\n",
    "def calc_kmeans_v_measure_score(clusters=3, method_init='k-means++', num_init=10):\n",
    "    kmeans = KMeans(n_clusters=clusters, random_state=42, init=method_init, n_init=num_init)\n",
    "    kmeans.fit(X)\n",
    "    kmeans_pred = kmeans.labels_\n",
    "    return v_measure_score(labels_true=y, labels_pred=kmeans_pred)\n",
    "\n",
    "\n",
    "# Агломеративная кластеризация\n",
    "def calc_agglomerative_clustering_v_measure_score(clusters=3, linkage='ward'):\n",
    "    ac = AgglomerativeClustering(n_clusters=clusters, linkage=linkage) \n",
    "    ac.fit(X)\n",
    "    y_pred = ac.labels_.astype(np.int)\n",
    "    return v_measure_score(labels_true=y, labels_pred=y_pred)\n",
    "\n",
    "\n",
    "# DBSCAN\n",
    "def calc_dbscan_v_measure_score(epsilon=0.9, samples=35):\n",
    "    dbscan = DBSCAN(eps=epsilon, min_samples=samples)\n",
    "    dbscan.fit(X)\n",
    "    y_pred = dbscan.labels_.astype(np.int)\n",
    "    return v_measure_score(labels_true=y, labels_pred=y_pred)\n",
    "\n",
    "\n",
    "print('K-means v_measure_score: ', calc_kmeans_v_measure_score())\n",
    "print('GaussianMixture v_measure_score: ', calc_gaussianmixture_v_measure_score())\n",
    "print('AgglomerativeClustering v_measure_score: ', calc_agglomerative_clustering_v_measure_score())\n",
    "print('DBSCAN v_measure_score: ', calc_dbscan_v_measure_score())\n"
   ]
  },
  {
   "cell_type": "code",
   "execution_count": 9,
   "metadata": {},
   "outputs": [
    {
     "name": "stdout",
     "output_type": "stream",
     "text": [
      "K-means v_measure_score:  0.7911556191133551\nK-means v_measure_score:  0.5990620007488798\n"
     ]
    }
   ],
   "source": [
    "# 4.14.3\n",
    "\n",
    "print('K-means v_measure_score: ', calc_kmeans_v_measure_score(method_init='k-means++', num_init=1))\n",
    "print('K-means v_measure_score: ', calc_kmeans_v_measure_score(method_init='random', num_init=1))\n"
   ]
  },
  {
   "cell_type": "code",
   "execution_count": 10,
   "metadata": {},
   "outputs": [
    {
     "name": "stdout",
     "output_type": "stream",
     "text": [
      "K-means v_measure_score:  0.7911556191133551\nMiniBatchKMeans v_measure_score:  0.795592702456356\n"
     ]
    }
   ],
   "source": [
    "# 4.14.4\n",
    "from sklearn.cluster import MiniBatchKMeans\n",
    "\n",
    "\n",
    "# MiniBatchKMeans\n",
    "def calc_kmeans_mini_batch_v_measure_score(clusters=3, method_init='k-means++', num_init=10):\n",
    "    kmeans_mini_batch = MiniBatchKMeans(n_clusters=clusters, random_state=42, init=method_init, n_init=num_init)\n",
    "    kmeans_mini_batch.fit(X)\n",
    "    kmeans_mini_batch_pred = kmeans.labels_\n",
    "    return v_measure_score(labels_true=y, labels_pred=kmeans_mini_batch_pred)\n",
    "\n",
    "\n",
    "print('K-means v_measure_score: ', calc_kmeans_v_measure_score(num_init=1))\n",
    "print('MiniBatchKMeans v_measure_score: ', calc_kmeans_mini_batch_v_measure_score(num_init=1))\n"
   ]
  },
  {
   "cell_type": "code",
   "execution_count": 12,
   "metadata": {},
   "outputs": [
    {
     "name": "stdout",
     "output_type": "stream",
     "text": [
      "AgglomerativeClustering v_measure_score:  0.703747024360433\n"
     ]
    },
    {
     "name": "stdout",
     "output_type": "stream",
     "text": [
      "AgglomerativeClustering v_measure_score:  0.4105143541946565\n"
     ]
    },
    {
     "name": "stdout",
     "output_type": "stream",
     "text": [
      "AgglomerativeClustering v_measure_score:  0.5391616325942709\nAgglomerativeClustering v_measure_score:  0.0008842106330108959\n"
     ]
    }
   ],
   "source": [
    "# 4.14.5\n",
    "\n",
    "print('AgglomerativeClustering v_measure_score: ', calc_agglomerative_clustering_v_measure_score(linkage='ward'))\n",
    "print('AgglomerativeClustering v_measure_score: ', calc_agglomerative_clustering_v_measure_score(linkage='complete'))\n",
    "print('AgglomerativeClustering v_measure_score: ', calc_agglomerative_clustering_v_measure_score(linkage='average'))\n",
    "print('AgglomerativeClustering v_measure_score: ', calc_agglomerative_clustering_v_measure_score(linkage='single'))\n"
   ]
  },
  {
   "cell_type": "code",
   "execution_count": 14,
   "metadata": {},
   "outputs": [
    {
     "name": "stdout",
     "output_type": "stream",
     "text": [
      "0.902634398342219\n"
     ]
    },
    {
     "name": "stdout",
     "output_type": "stream",
     "text": [
      "0.703747024360433\n"
     ]
    }
   ],
   "source": [
    "# 4.14.6\n",
    "from sklearn.neighbors import kneighbors_graph\n",
    "\n",
    "connectivity = kneighbors_graph(X, n_neighbors=6, include_self=False)\n",
    "connectivity = 0.5 * (connectivity + connectivity.T)\n",
    "\n",
    "ac = AgglomerativeClustering(n_clusters=3, connectivity=connectivity)\n",
    "ac.fit(X)\n",
    "y_pred = ac.labels_.astype(np.int)\n",
    "\n",
    "print(v_measure_score(labels_true=y, labels_pred=y_pred))\n",
    "print(calc_agglomerative_clustering_v_measure_score(clusters=3))\n"
   ]
  },
  {
   "cell_type": "code",
   "execution_count": 17,
   "metadata": {},
   "outputs": [
    {
     "name": "stdout",
     "output_type": "stream",
     "text": [
      "DBSCAN v_measure_score [eps=0.9, min_samples=35]:  0.7732549110297919\nDBSCAN v_measure_score [eps=0.8, min_samples=35]:  0.7063100442576922\n"
     ]
    }
   ],
   "source": [
    "# 4.14.7\n",
    "\n",
    "print('DBSCAN v_measure_score [eps=0.9, min_samples=35]: ', calc_dbscan_v_measure_score(epsilon=0.9, samples=35))\n",
    "print('DBSCAN v_measure_score [eps=0.8, min_samples=35]: ', calc_dbscan_v_measure_score(epsilon=0.8, samples=35))\n"
   ]
  },
  {
   "cell_type": "code",
   "execution_count": 19,
   "metadata": {},
   "outputs": [
    {
     "data": {
      "text/plain": [
       "0.9667281300681958"
      ]
     },
     "execution_count": 19,
     "metadata": {},
     "output_type": "execute_result"
    }
   ],
   "source": [
    "# 4.14.8\n",
    "def calc_dbscan_without_noise_v_measure_score(epsilon=0.9, samples=35):\n",
    "    dbscan = DBSCAN(eps=epsilon, min_samples=samples)\n",
    "    dbscan.fit(X)\n",
    "    y_pred = dbscan.labels_.astype(np.int)\n",
    "    return v_measure_score(labels_true=y[y_pred != -1], labels_pred=y_pred[y_pred != -1])\n",
    "\n",
    "\n",
    "calc_dbscan_without_noise_v_measure_score()\n"
   ]
  },
  {
   "cell_type": "code",
   "execution_count": 22,
   "metadata": {},
   "outputs": [
    {
     "name": "stdout",
     "output_type": "stream",
     "text": [
      "0.703747024360433\n"
     ]
    },
    {
     "name": "stdout",
     "output_type": "stream",
     "text": [
      "0.9079037199053294\n"
     ]
    }
   ],
   "source": [
    "# 4.14.9\n",
    "from sklearn.preprocessing import StandardScaler\n",
    "\n",
    "print(calc_agglomerative_clustering_v_measure_score())\n",
    "\n",
    "X_st = StandardScaler().fit_transform(X)\n",
    "ac = AgglomerativeClustering(n_clusters=3) \n",
    "ac.fit(X_st)\n",
    "y_pred = ac.labels_.astype(np.int)\n",
    "print(v_measure_score(labels_true=y, labels_pred=y_pred))\n"
   ]
  },
  {
   "cell_type": "code",
   "execution_count": 23,
   "metadata": {},
   "outputs": [
    {
     "name": "stdout",
     "output_type": "stream",
     "text": [
      "0.703747024360433\n"
     ]
    },
    {
     "name": "stdout",
     "output_type": "stream",
     "text": [
      "0.8929241488344335\n"
     ]
    }
   ],
   "source": [
    "# 4.14.10\n",
    "from sklearn.preprocessing import MinMaxScaler\n",
    "\n",
    "print(calc_agglomerative_clustering_v_measure_score())\n",
    "\n",
    "X_minmax = MinMaxScaler().fit_transform(X)\n",
    "ac = AgglomerativeClustering(n_clusters=3) \n",
    "ac.fit(X_minmax)\n",
    "y_pred = ac.labels_.astype(np.int)\n",
    "print(v_measure_score(labels_true=y, labels_pred=y_pred))\n"
   ]
  },
  {
   "cell_type": "code",
   "execution_count": null,
   "metadata": {},
   "outputs": [],
   "source": []
  }
 ],
 "metadata": {
  "kernelspec": {
   "display_name": "Python 2",
   "language": "python",
   "name": "python2"
  },
  "language_info": {
   "codemirror_mode": {
    "name": "ipython",
    "version": 2
   },
   "file_extension": ".py",
   "mimetype": "text/x-python",
   "name": "python",
   "nbconvert_exporter": "python",
   "pygments_lexer": "ipython2",
   "version": "2.7.6"
  }
 },
 "nbformat": 4,
 "nbformat_minor": 0
}
